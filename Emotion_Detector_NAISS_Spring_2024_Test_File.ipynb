{
  "cells": [
    {
      "cell_type": "markdown",
      "metadata": {
        "id": "view-in-github",
        "colab_type": "text"
      },
      "source": [
        "<a href=\"https://colab.research.google.com/github/VincentChen2/Emotion-Detector-NAISS-Spring-2024/blob/main/Emotion_Detector_NAISS_Spring_2024_Test_File.ipynb\" target=\"_parent\"><img src=\"https://colab.research.google.com/assets/colab-badge.svg\" alt=\"Open In Colab\"/></a>"
      ]
    },
    {
      "cell_type": "markdown",
      "source": [
        "# Importing Dataset\n"
      ],
      "metadata": {
        "id": "2FPJXPDP_ZCf"
      }
    },
    {
      "cell_type": "code",
      "source": [
        "num_of_folders = int(input('Input Number of Folders: '))\n",
        "folder_names = []\n",
        "\n",
        "for n in range(num_of_folders):\n",
        "    try:\n",
        "        folder_name = f\"{input('Input Folder Name: ')}\"\n",
        "        !unzip NeutralExpressions #TEMP FIX: Change this line for each zip file until fix is found\n",
        "        folder_names.append(folder_name)\n",
        "    except:\n",
        "        print('Folder Name Cannot be Found')"
      ],
      "metadata": {
        "id": "O2LPRkoO_Q_I"
      },
      "execution_count": null,
      "outputs": []
    },
    {
      "cell_type": "markdown",
      "source": [
        "# Model"
      ],
      "metadata": {
        "id": "yYzZLAS3AQZb"
      }
    },
    {
      "cell_type": "code",
      "source": [
        "#Imports\n",
        "import os\n",
        "import cv2\n",
        "import numpy as np\n",
        "from matplotlib import pyplot as plt\n",
        "import tensorflow as tf\n",
        "import random\n",
        "from sklearn.model_selection import train_test_split"
      ],
      "metadata": {
        "id": "WBBnELtWAPVA"
      },
      "execution_count": null,
      "outputs": []
    },
    {
      "cell_type": "code",
      "source": [
        "Categories = []\n",
        "for folder_name in folder_names:\n",
        "    num_of_files = len(os.listdir(folder_name))\n",
        "    cat_id = 0\n",
        "\n",
        "    for i in range(num_of_files):\n",
        "        im = cv2.imread(f'{folder_name}/IMG_{i}.png', cv2.IMREAD_GRAYSCALE) #HappyImages/ is a placeholder for folder names\n",
        "        im = cv2.resize(im, dsize = (100, 100, 1)) #Resizes image to 100x100 grayscale\n",
        "        if not (im[0][0] == 0 and im[0][1] == 0):\n",
        "            Categories.append((im, cat_id))\n",
        "\n",
        "    cat_id += 1"
      ],
      "metadata": {
        "id": "y6QcUFCfAvIs"
      },
      "execution_count": null,
      "outputs": []
    },
    {
      "cell_type": "code",
      "source": [
        "plt.imshow(Categories[60][0])"
      ],
      "metadata": {
        "id": "UvmyK1KzCGB5"
      },
      "execution_count": null,
      "outputs": []
    },
    {
      "cell_type": "code",
      "source": [
        "totalImages = Categories # +Other Image Arrays\n",
        "random.shuffle(bigArr)"
      ],
      "metadata": {
        "id": "ZCkYesnFCNbu"
      },
      "execution_count": null,
      "outputs": []
    },
    {
      "cell_type": "code",
      "source": [
        "plt.imshow[total_images[53][0]]"
      ],
      "metadata": {
        "id": "LQTieCMRCouj"
      },
      "execution_count": null,
      "outputs": []
    },
    {
      "cell_type": "code",
      "source": [
        "X = [x[0] for x in totalImages]\n",
        "X = np.array(X)\n",
        "X = np.reshape(X, (len(totalImages), 100, 100, 1))\n",
        "Y = [x[1] for x in totalImages]\n",
        "Y = np.array(Y)\n",
        "xtrain, xtest, ytrain, ytest = train_test_split(X, Y, test_size=0.2)"
      ],
      "metadata": {
        "id": "9-DTY1XbC1uE"
      },
      "execution_count": null,
      "outputs": []
    },
    {
      "cell_type": "code",
      "source": [
        "x1 = tf.keras.layers.Input((100, 100, 1))\n",
        "x2 = tf.keras.layers.Conv2D(64, (3, 3), activation = 'relu')(x1)\n",
        "x3 = tf.keras.layers.MaxPooling2D((2, 2))(x2)\n",
        "x4 = tf.keras.layers.Conv2D(64, (3, 3), activation = 'relu')(x3)\n",
        "x5 = tf.keras.layers.MaxPooling2D((2, 2))(x4)\n",
        "x6 = tf.keras.layers.Conv2D(64, (3, 3), activation = 'relu')(x5)\n",
        "x7 = tf.keras.layers.MaxPooling2D((2, 2))(x6)\n",
        "f = tf.keras.layers.Flatten()(x7)\n",
        "d1 = tf.keras.layers.Dense(32, activation = 'relu')(f)\n",
        "d2 = tf.keras.layers.Dense(16, activation = 'relu')(f)\n",
        "d3 = tf.keras.layers.Dense(1, activation = 'sigmoid')(f)\n",
        "\n",
        "model = tf.keras.models.Model(inputs = i, outputs = d3)"
      ],
      "metadata": {
        "id": "mz0tC-jUC_On"
      },
      "execution_count": null,
      "outputs": []
    },
    {
      "cell_type": "code",
      "source": [
        "model.summary()\n",
        "if num_of_folders < 2:\n",
        "    print('Insufficient Number of Categories; Need at Least Two Categories')\n",
        "elif num_of_folders == 2:\n",
        "    model.compile(loss = 'binary_crossentropy',\n",
        "              optimizer = 'adam',\n",
        "              metrics = ['accuracy'])\n",
        "else:\n",
        "    model.compile(loss = 'sparse_categorical_crossentropy',\n",
        "              optimizer = 'adam',\n",
        "              metrics = ['accuracy'])"
      ],
      "metadata": {
        "id": "Ebirnf67CSz1"
      },
      "execution_count": null,
      "outputs": []
    },
    {
      "cell_type": "code",
      "source": [
        "model.fit(xtrain, ytrain, batch_size = 10, epochs = 100)"
      ],
      "metadata": {
        "id": "rTMKcXeSIHQE"
      },
      "execution_count": null,
      "outputs": []
    },
    {
      "cell_type": "code",
      "source": [
        "totalCorrect = 0\n",
        "predictions = model.predict(xtest)\n",
        "for i in range(len(predictions)):\n",
        "  binary = np.round_(predictions[i])\n",
        "  if binary == ytest[i]:\n",
        "    totalCorrect += 1\n",
        "print(totalCorrect / len(ytest))"
      ],
      "metadata": {
        "id": "bXPQ6HwWIIAp"
      },
      "execution_count": null,
      "outputs": []
    },
    {
      "cell_type": "markdown",
      "source": [
        "#Saving to Drive from Colab"
      ],
      "metadata": {
        "id": "GzsYRBhEIn0d"
      }
    },
    {
      "cell_type": "code",
      "source": [
        "from google.colab import drive\n",
        "\n",
        "drive.mount('/content/drive')\n",
        "model_path = \"/content/drive/My Drive/EmotionModel.h5\"\n",
        "model.save(model_path)"
      ],
      "metadata": {
        "id": "GBfh6UeUIhwo"
      },
      "execution_count": null,
      "outputs": []
    }
  ],
  "metadata": {
    "colab": {
      "provenance": [],
      "authorship_tag": "ABX9TyN/qajkSO+0EuMIEtyU9+ow",
      "include_colab_link": true
    },
    "kernelspec": {
      "display_name": "Python 3",
      "name": "python3"
    },
    "language_info": {
      "name": "python"
    }
  },
  "nbformat": 4,
  "nbformat_minor": 0
}