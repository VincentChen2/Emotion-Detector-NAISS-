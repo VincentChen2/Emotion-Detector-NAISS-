{
  "cells": [
    {
      "cell_type": "markdown",
      "metadata": {
        "id": "view-in-github",
        "colab_type": "text"
      },
      "source": [
        "<a href=\"https://colab.research.google.com/github/VincentChen2/Emotion-Detector-NAISS-/blob/main/Emotion_Detector_NAISS_Spring_2024_Test_File.ipynb\" target=\"_parent\"><img src=\"https://colab.research.google.com/assets/colab-badge.svg\" alt=\"Open In Colab\"/></a>"
      ]
    },
    {
      "cell_type": "markdown",
      "source": [
        "# Importing Dataset\n"
      ],
      "metadata": {
        "id": "2FPJXPDP_ZCf"
      }
    },
    {
      "cell_type": "code",
      "source": [
        "num_of_folders = input('Input Number of Folders: ')\n",
        "folder_names = []\n",
        "\n",
        "for n in range(num_of_folders):\n",
        "    try:\n",
        "        folder_name = input('Input Folder Name: ')\n",
        "        !unzip folder_name\n",
        "        folder_names.append(folder_name)\n",
        "    except:\n",
        "        print('Folder Name Cannot be Found')"
      ],
      "metadata": {
        "id": "O2LPRkoO_Q_I"
      },
      "execution_count": null,
      "outputs": []
    },
    {
      "cell_type": "markdown",
      "source": [
        "# Model"
      ],
      "metadata": {
        "id": "yYzZLAS3AQZb"
      }
    },
    {
      "cell_type": "code",
      "source": [
        "#Imports\n",
        "import cv2\n",
        "import numpy as np\n",
        "from matplotlib import pyplot as plt\n",
        "import tensorflow as tf\n",
        "import random\n",
        "import sklearn.model_selection import train_test_split"
      ],
      "metadata": {
        "id": "WBBnELtWAPVA"
      },
      "execution_count": null,
      "outputs": []
    },
    {
      "cell_type": "code",
      "source": [
        "a_array = []\n",
        "for i in range(150) #150 is placeholder for number of entries per folder\n",
        "    im = cv2.imread(f'HappyImages/IMG_{i}.png', cv2.IMREAD_GRAYSCALE) #HappyImages/ is a placeholder for folder names\n",
        "    cv2.resize(im, dsize = (100, 100, 1)) #Resizes image to 100x100 grayscale\n",
        "    a_array.append((im, 0))"
      ],
      "metadata": {
        "id": "y6QcUFCfAvIs"
      },
      "execution_count": null,
      "outputs": []
    },
    {
      "cell_type": "code",
      "source": [
        "plt.imshow(a_array[60][0])"
      ],
      "metadata": {
        "id": "UvmyK1KzCGB5"
      },
      "execution_count": null,
      "outputs": []
    },
    {
      "cell_type": "code",
      "source": [
        "bigArr = a_array # +Other Image Arrays\n",
        "random.shuffle(bigArr)"
      ],
      "metadata": {
        "id": "ZCkYesnFCNbu"
      },
      "execution_count": null,
      "outputs": []
    },
    {
      "cell_type": "code",
      "source": [
        "plt.imshow[bigArr[53][0]]"
      ],
      "metadata": {
        "id": "LQTieCMRCouj"
      },
      "execution_count": null,
      "outputs": []
    },
    {
      "cell_type": "code",
      "source": [
        "X = [x[0] for x in bigArr]\n",
        "Y = [y[1] for x in bigArr]"
      ],
      "metadata": {
        "id": "9-DTY1XbC1uE"
      },
      "execution_count": null,
      "outputs": []
    },
    {
      "cell_type": "code",
      "source": [
        "i = tf.keras.layers.Input((100, 100, 1))\n",
        "x1 = tf.keras.layers.Conv2D(64, (3, 3), activation = 'relu')\n",
        "x2 = tf.keras.layers.Conv2D(64, (3, 3), activation = 'relu')(x1)\n",
        "f = tf.keras.layers.Flatten(x2)\n",
        "d1 - tf.keras.layers.Dense(64, activation = 'relu')(f)\n",
        "d2 = tf.keras.layers.Dense(1, activation = 'relu')(d1)\n",
        "\n",
        "model = tf.keras.models.Model(input = i, outputs = d2)"
      ],
      "metadata": {
        "id": "mz0tC-jUC_On"
      },
      "execution_count": null,
      "outputs": []
    }
  ],
  "metadata": {
    "colab": {
      "provenance": [],
      "authorship_tag": "ABX9TyMQGjC91/VG4CPH37NPV2J/",
      "include_colab_link": true
    },
    "kernelspec": {
      "display_name": "Python 3",
      "name": "python3"
    },
    "language_info": {
      "name": "python"
    }
  },
  "nbformat": 4,
  "nbformat_minor": 0
}